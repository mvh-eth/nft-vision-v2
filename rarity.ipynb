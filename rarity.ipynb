{
 "cells": [
  {
   "cell_type": "code",
   "execution_count": 9,
   "metadata": {},
   "outputs": [],
   "source": [
    "import database\n",
    "import pandas as pd"
   ]
  },
  {
   "cell_type": "code",
   "execution_count": 2,
   "metadata": {},
   "outputs": [],
   "source": [
    "db = database.Database()"
   ]
  },
  {
   "cell_type": "code",
   "execution_count": 7,
   "metadata": {},
   "outputs": [],
   "source": [
    "#read boredapeyachtclub_metadata    \n",
    "bayc = db.read_mongo(\"boredapeyachtclub_metadata\")"
   ]
  },
  {
   "cell_type": "code",
   "execution_count": 16,
   "metadata": {},
   "outputs": [
    {
     "data": {
      "text/html": [
       "<div>\n",
       "<style scoped>\n",
       "    .dataframe tbody tr th:only-of-type {\n",
       "        vertical-align: middle;\n",
       "    }\n",
       "\n",
       "    .dataframe tbody tr th {\n",
       "        vertical-align: top;\n",
       "    }\n",
       "\n",
       "    .dataframe thead th {\n",
       "        text-align: right;\n",
       "    }\n",
       "</style>\n",
       "<table border=\"1\" class=\"dataframe\">\n",
       "  <thead>\n",
       "    <tr style=\"text-align: right;\">\n",
       "      <th></th>\n",
       "      <th>key</th>\n",
       "      <th>value</th>\n",
       "      <th>tokenCount</th>\n",
       "      <th>onSaleCount</th>\n",
       "      <th>floorAskPrice</th>\n",
       "      <th>topBidValue</th>\n",
       "    </tr>\n",
       "  </thead>\n",
       "  <tbody>\n",
       "    <tr>\n",
       "      <th>0</th>\n",
       "      <td>Background</td>\n",
       "      <td>Orange</td>\n",
       "      <td>1273</td>\n",
       "      <td>148</td>\n",
       "      <td>86.00</td>\n",
       "      <td>None</td>\n",
       "    </tr>\n",
       "    <tr>\n",
       "      <th>1</th>\n",
       "      <td>Clothes</td>\n",
       "      <td>Striped Tee</td>\n",
       "      <td>412</td>\n",
       "      <td>32</td>\n",
       "      <td>79.95</td>\n",
       "      <td>None</td>\n",
       "    </tr>\n",
       "    <tr>\n",
       "      <th>2</th>\n",
       "      <td>Earring</td>\n",
       "      <td>Silver Hoop</td>\n",
       "      <td>882</td>\n",
       "      <td>69</td>\n",
       "      <td>84.38</td>\n",
       "      <td>None</td>\n",
       "    </tr>\n",
       "    <tr>\n",
       "      <th>3</th>\n",
       "      <td>Eyes</td>\n",
       "      <td>X Eyes</td>\n",
       "      <td>243</td>\n",
       "      <td>24</td>\n",
       "      <td>95.00</td>\n",
       "      <td>None</td>\n",
       "    </tr>\n",
       "    <tr>\n",
       "      <th>4</th>\n",
       "      <td>Mouth</td>\n",
       "      <td>Discomfort</td>\n",
       "      <td>208</td>\n",
       "      <td>19</td>\n",
       "      <td>91.80</td>\n",
       "      <td>None</td>\n",
       "    </tr>\n",
       "    <tr>\n",
       "      <th>5</th>\n",
       "      <td>Fur</td>\n",
       "      <td>Robot</td>\n",
       "      <td>265</td>\n",
       "      <td>25</td>\n",
       "      <td>102.99</td>\n",
       "      <td>None</td>\n",
       "    </tr>\n",
       "  </tbody>\n",
       "</table>\n",
       "</div>"
      ],
      "text/plain": [
       "          key        value  tokenCount  onSaleCount  floorAskPrice topBidValue\n",
       "0  Background       Orange        1273          148          86.00        None\n",
       "1     Clothes  Striped Tee         412           32          79.95        None\n",
       "2     Earring  Silver Hoop         882           69          84.38        None\n",
       "3        Eyes       X Eyes         243           24          95.00        None\n",
       "4       Mouth   Discomfort         208           19          91.80        None\n",
       "5         Fur        Robot         265           25         102.99        None"
      ]
     },
     "execution_count": 16,
     "metadata": {},
     "output_type": "execute_result"
    }
   ],
   "source": [
    "pd.json_normalize(bayc[0]['attributes'])"
   ]
  },
  {
   "cell_type": "code",
   "execution_count": null,
   "metadata": {},
   "outputs": [],
   "source": []
  }
 ],
 "metadata": {
  "kernelspec": {
   "display_name": "Python 3.9.7 ('base')",
   "language": "python",
   "name": "python3"
  },
  "language_info": {
   "codemirror_mode": {
    "name": "ipython",
    "version": 3
   },
   "file_extension": ".py",
   "mimetype": "text/x-python",
   "name": "python",
   "nbconvert_exporter": "python",
   "pygments_lexer": "ipython3",
   "version": "3.9.7"
  },
  "orig_nbformat": 4,
  "vscode": {
   "interpreter": {
    "hash": "631af46dfe2aa06b02954c5167e64b1b30970221264e4bda1b15943a0af226c8"
   }
  }
 },
 "nbformat": 4,
 "nbformat_minor": 2
}
